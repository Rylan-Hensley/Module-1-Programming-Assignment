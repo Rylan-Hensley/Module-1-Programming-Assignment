{
 "cells": [
  {
   "cell_type": "code",
   "execution_count": 13,
   "id": "b108462a-7a45-4f55-a4d4-4094e4dad4da",
   "metadata": {},
   "outputs": [
    {
     "name": "stdout",
     "output_type": "stream",
     "text": [
      "Just right\n"
     ]
    }
   ],
   "source": [
    "secret = 4\n",
    "guess = 4\n",
    "\n",
    "if guess < secret:\n",
    "    print('Too low')\n",
    "elif guess > secret:\n",
    "    print('Too high')\n",
    "else:\n",
    "    print('Just right')"
   ]
  },
  {
   "cell_type": "code",
   "execution_count": 19,
   "id": "03e3eeb4-d44e-42c2-bdb1-1eee313469aa",
   "metadata": {},
   "outputs": [
    {
     "name": "stdout",
     "output_type": "stream",
     "text": [
      "pumpkin\n"
     ]
    }
   ],
   "source": [
    "small = False\n",
    "green = False\n",
    "\n",
    "if small == True and green == True:\n",
    "    print('pea')\n",
    "elif small == False and green == True:\n",
    "    print('watermelon')\n",
    "elif small == True and green == False:\n",
    "    print('cherry')\n",
    "elif small == False and green == False:\n",
    "    print('pumpkin')"
   ]
  },
  {
   "cell_type": "code",
   "execution_count": 21,
   "id": "bc24c9a8-db07-4040-ad5b-420ae80c6ff7",
   "metadata": {},
   "outputs": [
    {
     "name": "stdout",
     "output_type": "stream",
     "text": [
      "3\n",
      "2\n",
      "1\n",
      "0\n"
     ]
    }
   ],
   "source": [
    "num_list = [3,2,1,0]\n",
    "\n",
    "for i in num_list:\n",
    "    print(i)"
   ]
  },
  {
   "cell_type": "code",
   "execution_count": 27,
   "id": "b7bafaa3-ac86-4433-8a0a-28cb8d7535d7",
   "metadata": {},
   "outputs": [
    {
     "name": "stdout",
     "output_type": "stream",
     "text": [
      "Too low\n",
      "Too low\n",
      "Too low\n",
      "Too low\n",
      "Too low\n",
      "Too low\n",
      "found it!\n"
     ]
    }
   ],
   "source": [
    "guess_me = 7\n",
    "number = 1\n",
    "\n",
    "while number < guess_me or number == guess_me or number > guess_me:\n",
    "    if number < guess_me:\n",
    "        print('Too low')\n",
    "        number += 1\n",
    "    elif number > guess_me:\n",
    "        print('Oops')\n",
    "        number -= 1\n",
    "    elif number == guess_me:\n",
    "        print('found it!')\n",
    "        break"
   ]
  },
  {
   "cell_type": "code",
   "execution_count": 45,
   "id": "bc60d87b-1476-40bd-b05d-33f5a4194317",
   "metadata": {},
   "outputs": [
    {
     "name": "stdout",
     "output_type": "stream",
     "text": [
      "Too low\n",
      "Too low\n",
      "Too low\n",
      "Too low\n",
      "Too low\n",
      "found it!\n"
     ]
    }
   ],
   "source": [
    "guess_me = 5\n",
    "\n",
    "for number in range(0, 10):\n",
    "    if number < guess_me:\n",
    "        print('Too low')\n",
    "    elif number > guess_me:\n",
    "        print('Oops')\n",
    "    elif number == guess_me:\n",
    "        print('found it!')\n",
    "        break"
   ]
  }
 ],
 "metadata": {
  "kernelspec": {
   "display_name": "Python 3 (ipykernel)",
   "language": "python",
   "name": "python3"
  },
  "language_info": {
   "codemirror_mode": {
    "name": "ipython",
    "version": 3
   },
   "file_extension": ".py",
   "mimetype": "text/x-python",
   "name": "python",
   "nbconvert_exporter": "python",
   "pygments_lexer": "ipython3",
   "version": "3.12.4"
  }
 },
 "nbformat": 4,
 "nbformat_minor": 5
}
