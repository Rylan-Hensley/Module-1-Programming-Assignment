{
 "cells": [
  {
   "cell_type": "code",
   "execution_count": 53,
   "id": "59717f9c-fba4-44f4-8aad-1750d7d2f040",
   "metadata": {},
   "outputs": [
    {
     "name": "stdout",
     "output_type": "stream",
     "text": [
      "['mozzarella', 'cinderella', 'salmonella']\n",
      "['MOZZARELLA', 'Cinderella']\n"
     ]
    }
   ],
   "source": [
    "things = ['mozzarella', 'cinderella', 'salmonella']\n",
    "print(things)\n",
    "\n",
    "things[1] = things[1].capitalize()\n",
    "\n",
    "\n",
    "things[0] = things[0].upper()\n",
    "\n",
    "\n",
    "things.pop(2)\n",
    "\n",
    "print(things)\n"
   ]
  },
  {
   "cell_type": "code",
   "execution_count": 85,
   "id": "e56fbb74-4c90-4b20-81c0-76a1691c7955",
   "metadata": {},
   "outputs": [
    {
     "name": "stdout",
     "output_type": "stream",
     "text": [
      "['Harry', 'Ron', 'Hermione']\n",
      "5\n"
     ]
    }
   ],
   "source": [
    "def good():\n",
    "    return ['Harry', 'Ron', 'Hermione']\n",
    "\n",
    "def get_odds():\n",
    "    odds = []\n",
    "    for num in range(10):\n",
    "        if num % 2 !=0:\n",
    "            odds.append(num)\n",
    "    return print(odds[2])\n",
    "print(good())\n",
    "\n",
    "get_odds()"
   ]
  }
 ],
 "metadata": {
  "kernelspec": {
   "display_name": "Python 3 (ipykernel)",
   "language": "python",
   "name": "python3"
  },
  "language_info": {
   "codemirror_mode": {
    "name": "ipython",
    "version": 3
   },
   "file_extension": ".py",
   "mimetype": "text/x-python",
   "name": "python",
   "nbconvert_exporter": "python",
   "pygments_lexer": "ipython3",
   "version": "3.12.4"
  }
 },
 "nbformat": 4,
 "nbformat_minor": 5
}
